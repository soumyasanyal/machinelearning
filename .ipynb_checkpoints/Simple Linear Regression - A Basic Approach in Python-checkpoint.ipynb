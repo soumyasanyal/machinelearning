{
 "cells": [
  {
   "cell_type": "markdown",
   "metadata": {},
   "source": [
    "# Introduction"
   ]
  },
  {
   "cell_type": "markdown",
   "metadata": {},
   "source": [
    "This notebook is my first attempt to write a simple linear regression algorithm from scratch. First we need to define the hypothesis funtion. We know its a straigh line equation for linear regression."
   ]
  },
  {
   "cell_type": "markdown",
   "metadata": {},
   "source": [
    "$$y = b_0 + b_1 * x$$"
   ]
  },
  {
   "cell_type": "markdown",
   "metadata": {},
   "source": [
    "Next, we need to find the optimal solution for the above coefficients $b_0$ and $b_1$. For that we can optimize the Residual Sum of Squares given by the expression,$$RSS = \\sum_{1}^{n} {e_i}^2$$ where $e_i = y_i - \\hat{y_i}$"
   ]
  },
  {
   "cell_type": "markdown",
   "metadata": {},
   "source": [
    "This comes out to be (after sufficient mathematics)\n",
    "$$b_1 = \\frac{\\sum_{i=1}^{n}(x_i-\\bar{x})*(y_i-\\bar{y})}{\\sum_{i=1}^{n}(x_i-\\bar{x})^2}$$\n",
    "$$b_0 = \\bar{y} - b_1*\\bar{x}$$\n",
    "where $\\bar{x}$ and $\\bar{y}$ are sample means."
   ]
  },
  {
   "cell_type": "markdown",
   "metadata": {},
   "source": [
    "In this discussion, we'll reprresent the data in the form of vectors $X$ and $Y$. All python code will assume these vectors to be Numpy arrays."
   ]
  },
  {
   "cell_type": "markdown",
   "metadata": {},
   "source": [
    "### Linear Regression class in python"
   ]
  },
  {
   "cell_type": "markdown",
   "metadata": {},
   "source": [
    "First we need functions to find the mean and variance. Using that we define the covariance for $X$ and $Y$. Next we need to evaluate the coefficients $b_0$ and $b_1$ using the above formula. The prediction function used is the same linear regression form written above."
   ]
  },
  {
   "cell_type": "code",
   "execution_count": 25,
   "metadata": {
    "collapsed": true
   },
   "outputs": [],
   "source": [
    "import numpy as np\n",
    "\n",
    "class SimpleLinearRegression:\n",
    "    \n",
    "    def __init__(self):\n",
    "        self.b0 = 0   #intercept\n",
    "        self.b1 = 0   #slope\n",
    "\n",
    "    def __mean(self, X):\n",
    "        return sum(X) / float(len(X))\n",
    "\n",
    "    def __var(self, X):\n",
    "        return sum((X - self.__mean(X))**2) / float(len(X) - 1)\n",
    "\n",
    "    def __cov(self, X, Y):\n",
    "        return sum((X - self.__mean(X))*(Y - self.__mean(Y))) / float(len(X) - 1)\n",
    "\n",
    "    #Given vectors X and Y, finds the optimal coefficients b0 and b1\n",
    "    def fit(self, X, Y):\n",
    "        self.b1 = self.__cov(X, Y) / self.__var(X)\n",
    "        self.b0 = self.__mean(Y) - self.b1 * self.__mean(X)\n",
    "\n",
    "    def predict(self, X):\n",
    "        return self.b0 + self.b1 * X\n",
    "    \n",
    "    def __squareSum(self, X, Y):\n",
    "        return sum((X - Y)**2)\n",
    "\n",
    "    def score(self, Y, Y_predict):\n",
    "        return 1 - self.__squareSum(Y, Y_predict) / self.__squareSum(Y, self.__mean(Y))"
   ]
  },
  {
   "cell_type": "code",
   "execution_count": 26,
   "metadata": {
    "collapsed": false,
    "scrolled": true
   },
   "outputs": [
    {
     "name": "stdout",
     "output_type": "stream",
     "text": [
      "X_train:  [1 2 4 3 5]\n",
      "Y_train:  [1 3 3 2 5]\n",
      "Fitting Simple Linear Regression model..\n",
      "X_test:  [1 2 4 3 5]\n",
      "Y_test:  [1 3 3 2 5]\n",
      "Prediction YPredict:  [ 1.2  2.   3.6  2.8  4.4]\n",
      "R squared score:  0.727272727273\n"
     ]
    }
   ],
   "source": [
    "L = SimpleLinearRegression()\n",
    "X_train = np.array([1, 2, 4, 3, 5])\n",
    "Y_train = np.array([1, 3, 3, 2, 5])\n",
    "print('X_train: ', X_train)\n",
    "print('Y_train: ', Y_train)\n",
    "print('Fitting Simple Linear Regression model..')\n",
    "L.fit(X_train, Y_train)\n",
    "X_test = np.array([1, 2, 4, 3, 5])\n",
    "Y_test = np.array([1, 3, 3, 2, 5])\n",
    "print('X_test: ', X_test)\n",
    "print('Y_test: ', Y_test)\n",
    "Y_predict = L.predict(X_test)\n",
    "print('Prediction YPredict: ', Y_predict)\n",
    "print('R squared score: ', L.score(Y_test, Y_predict))"
   ]
  }
 ],
 "metadata": {
  "kernelspec": {
   "display_name": "Python 3",
   "language": "python",
   "name": "python3"
  },
  "language_info": {
   "codemirror_mode": {
    "name": "ipython",
    "version": 3
   },
   "file_extension": ".py",
   "mimetype": "text/x-python",
   "name": "python",
   "nbconvert_exporter": "python",
   "pygments_lexer": "ipython3",
   "version": "3.5.2"
  }
 },
 "nbformat": 4,
 "nbformat_minor": 1
}
