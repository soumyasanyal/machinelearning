{
 "cells": [
  {
   "cell_type": "markdown",
   "metadata": {},
   "source": [
    "# Introduction"
   ]
  },
  {
   "cell_type": "markdown",
   "metadata": {},
   "source": [
    "This approach to model multiple linear regression (MLR) is based on using vectored approach to solve for minimizing the residual sum of sqaures. Though we don't actually solve the RSS here, I'll try to find some understanding for the solution ( needs some research ). In MLR, the 'linear' means that the hypothesis function is linear in coefficients. It can be written as below,\n",
    "$$y = \\alpha + \\beta_1x_1 + \\beta_2x_2 + ... \\beta_px_p$$\n",
    "where $\\alpha$ is the intercept and $\\beta_j$'s are the coefficients.\n",
    "\n",
    "Writing the same in vectorized form,\n",
    "$$Y = X * \\beta$$\n",
    "where $Y$ is the response vector, $\\beta$ is the coefficient vector (first coefficient is $\\alpha$) and $X$ is the feature matrix (prepended with a vector of 1's to take $\\alpha$ into account).\n",
    "\n",
    "The RSS equation that we want to minimize is as follows,\n",
    "$$RSS = \\sum_{i}(y_i - \\alpha - \\beta_1x_{i,1} - ... - \\beta_px_{i,p})^2$$\n",
    "\n",
    "This is minimized by the following,\n",
    "$$\\hat{\\beta} = (X^TX)^{-1}X^TY$$\n",
    "\n",
    "The evaluation of the accuracy of the algorithm is done using the R-squared metric. This is better that RMSE as the value is agnostic of the dimension of $Y$. The R-squared metric is defined as\n",
    "$$R^2 = 1 - \\frac{RSS}{TSS} = 1 - \\frac{\\sum_{i=1}^{n}(y_i - \\hat{y})^2}{\\sum_{i=1}^{n}(y_i - \\bar{y})^2}$$\n",
    "where $RSS$ is the residual sum of squares and $TSS$ is the total sum of squares."
   ]
  },
  {
   "cell_type": "markdown",
   "metadata": {},
   "source": [
    "# Multiple Linear Regression in python"
   ]
  },
  {
   "cell_type": "markdown",
   "metadata": {},
   "source": [
    "We define the vectors and matrices as Numpy arrays. Specifically, Y is the response vector, B is the coefficient vector and X is the feature matrix."
   ]
  },
  {
   "cell_type": "code",
   "execution_count": 58,
   "metadata": {
    "collapsed": true
   },
   "outputs": [],
   "source": [
    "import numpy as np\n",
    "from numpy.linalg import inv\n",
    "\n",
    "class MultipleLinearRegression:\n",
    "    \n",
    "    def __init__(self, n):\n",
    "        #Here n is the number of indicator variables (feature variables).\n",
    "        #Actually, n+1 coefficients need to be estimated (including the intercept alpha)\n",
    "        self.B = np.zeros(n+1)\n",
    "\n",
    "    def __mean(self, X):\n",
    "        return sum(X) / float(len(X))\n",
    "    \n",
    "    def __squareSum(self, X, Y):\n",
    "        return sum((X - Y)**2)\n",
    "    \n",
    "    def fit(self, X, Y):\n",
    "        X_transpose = X.transpose()\n",
    "        X_product = np.matmul(X_transpose, X)\n",
    "        self.B = np.matmul(np.matmul(inv(X_product), X_transpose), Y)\n",
    "        return self.B\n",
    "    \n",
    "    def predict(self, X_test):\n",
    "        return np.matmul(X_test, self.B)\n",
    "    \n",
    "    def score(self, Y_test, Y_predict):\n",
    "        return 1 - self.__squareSum(Y_test, Y_predict) / self.__squareSum(Y_test, self.__mean(Y_test))"
   ]
  },
  {
   "cell_type": "code",
   "execution_count": 67,
   "metadata": {
    "collapsed": false
   },
   "outputs": [
    {
     "name": "stdout",
     "output_type": "stream",
     "text": [
      "Sample function which is being predicted: y = 3 +4*x1 + 7*x2\n",
      "Optimized Coefficients: [ 2.4563486   3.99391271  6.80189127]\n",
      "R squared score:  0.96261016576\n"
     ]
    }
   ],
   "source": [
    "import random\n",
    "\n",
    "def randomSampleGenerator(n):\n",
    "    Y = []\n",
    "    X = []\n",
    "    random.seed(10)\n",
    "    for i in range(1,n+1):\n",
    "        x1 = random.uniform(-50, 50)\n",
    "        x2 = random.uniform(-10, 10)\n",
    "        var = random.random() * 50 * random.randint(-1, 1)\n",
    "        y = (3 + 4 * x1 + 7 * x2) + var\n",
    "        Y.append([y])\n",
    "        X.append([1, x1, x2])\n",
    "    return [np.array(X), np.array(Y)]\n",
    "\n",
    "N_samples = 1000\n",
    "[X, Y] = randomSampleGenerator(N_samples)\n",
    "print('Sample function which is being predicted: y = 3 +4*x1 + 7*x2')\n",
    "#print('Sample feature matrix:\\n', X)\n",
    "#print('Response vector:', Y)\n",
    "[X_train, Y_train ] = [X[0:int(0.7*N_samples),:], Y[0:int(0.7*N_samples)]]\n",
    "[X_test, Y_test ] = [X[int(0.7*N_samples):N_samples,:], Y[int(0.7*N_samples):N_samples]]\n",
    "#print('Training set:\\n', X_train)\n",
    "#print(Y_train)\n",
    "#print('Test set:\\n', X_test)\n",
    "#print(Y_test)\n",
    "MLR = MultipleLinearRegression(2)\n",
    "coeff = MLR.fit(X_train, Y_train)\n",
    "print('Optimized Coefficients:', coeff)\n",
    "Y_predict = MLR.predict(X_test)\n",
    "#print('Prediction YPredict: ', Y_predict)\n",
    "print('R squared score: ', MLR.score(Y_test, Y_predict))"
   ]
  }
 ],
 "metadata": {
  "kernelspec": {
   "display_name": "Python 3",
   "language": "python",
   "name": "python3"
  },
  "language_info": {
   "codemirror_mode": {
    "name": "ipython",
    "version": 3
   },
   "file_extension": ".py",
   "mimetype": "text/x-python",
   "name": "python",
   "nbconvert_exporter": "python",
   "pygments_lexer": "ipython3",
   "version": "3.5.2"
  }
 },
 "nbformat": 4,
 "nbformat_minor": 1
}
